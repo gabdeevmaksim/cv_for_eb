{
 "cells": [
  {
   "cell_type": "code",
   "execution_count": 6,
   "metadata": {},
   "outputs": [],
   "source": [
    "import pandas as pd\n",
    "\n",
    "# Read three CSV files into separate DataFrames\n",
    "deb = pd.read_csv('../data/tests_results/classification_gaia_deb.csv')\n",
    "ogle = pd.read_csv('../data/tests_results/classification_gaia_ogle.csv')\n",
    "wumacat = pd.read_csv('../data/tests_results/classification_tess_WUMaCat.csv')"
   ]
  },
  {
   "cell_type": "code",
   "execution_count": 85,
   "metadata": {},
   "outputs": [
    {
     "name": "stdout",
     "output_type": "stream",
     "text": [
      "<class 'pandas.core.frame.DataFrame'>\n",
      "RangeIndex: 52 entries, 0 to 51\n",
      "Data columns (total 10 columns):\n",
      " #   Column           Non-Null Count  Dtype \n",
      "---  ------           --------------  ----- \n",
      " 0   Name             52 non-null     object\n",
      " 1   Gaia             52 non-null     int64 \n",
      " 2   binary_tess_Res  52 non-null     object\n",
      " 3   spot_Tess_Res    52 non-null     object\n",
      " 4   binary_tess_ViT  52 non-null     object\n",
      " 5   spot_tess_ViT    52 non-null     object\n",
      " 6   binary_gaia_Res  52 non-null     object\n",
      " 7   spot_Gaia_Res    52 non-null     object\n",
      " 8   binary_gaia_ViT  52 non-null     object\n",
      " 9   spot_Gaia_ViT    52 non-null     object\n",
      "dtypes: int64(1), object(9)\n",
      "memory usage: 4.2+ KB\n"
     ]
    }
   ],
   "source": [
    "deb.info()"
   ]
  },
  {
   "cell_type": "code",
   "execution_count": 34,
   "metadata": {},
   "outputs": [
    {
     "name": "stdout",
     "output_type": "stream",
     "text": [
      "Deb Classification Percentages:\n",
      " binary_tess_Res: 100.00%\n",
      " binary_tess_ViT: 100.00%\n",
      "  binary_gaia_Res: 100.00%\n",
      " binary_gaia_ViT: 100.00%\n"
     ]
    }
   ],
   "source": [
    "def calculate_correct_classification_percentage(df, class_name='det'):\n",
    "    \"\"\"\n",
    "    Calculates the percentage of correct classifications for a specified class in binary classification columns.\n",
    "\n",
    "    Args:\n",
    "        df (pd.DataFrame): The input DataFrame containing classification results.\n",
    "        class_name (str): The name of the class to check for correct classifications (default: 'det').\n",
    "\n",
    "    Returns:\n",
    "        dict: A dictionary where keys are column names and values are the corresponding percentages.\n",
    "    \"\"\"\n",
    "    results = {}\n",
    "    total_objects = len(df)\n",
    "\n",
    "    for col in df.columns:\n",
    "        if 'binary' in col:\n",
    "            correct_classifications = df[col][df[col] == class_name].count()\n",
    "            percentage = (correct_classifications / total_objects) * 100\n",
    "            results[col] = percentage\n",
    "\n",
    "    return results\n",
    "\n",
    "deb_classification_percentages = calculate_correct_classification_percentage(deb, class_name='det')\n",
    "\n",
    "print(\"Deb Classification Percentages:\")\n",
    "for col, percentage in deb_classification_percentages.items():\n",
    "    print(f\"{col}: {percentage:.2f}%\")"
   ]
  },
  {
   "cell_type": "code",
   "execution_count": null,
   "metadata": {},
   "outputs": [
    {
     "name": "stdout",
     "output_type": "stream",
     "text": [
      "WU UMa Classification Percentages:\n",
      " binary_tess_Res: 100.00%\n",
      " binary_tess_ViT: 100.00%\n",
      "  binary_gaia_Res: 96.67%\n",
      " binary_gaia_ViT: 91.11%\n"
     ]
    }
   ],
   "source": [
    "wumacat_classification_percentages = calculate_correct_classification_percentage(wumacat, class_name='over')\n",
    "\n",
    "print(\"WU UMa Classification Percentages:\")\n",
    "for col, percentage in wumacat_classification_percentages.items():\n",
    "    print(f\"{col}: {percentage:.2f}%\")"
   ]
  },
  {
   "cell_type": "code",
   "execution_count": 89,
   "metadata": {},
   "outputs": [
    {
     "data": {
      "text/plain": [
       "binary_gaia_ViT\n",
       "over               82\n",
       "det                 8\n",
       "Name: count, dtype: int64"
      ]
     },
     "execution_count": 89,
     "metadata": {},
     "output_type": "execute_result"
    }
   ],
   "source": [
    "wumacat[['binary_gaia_ViT']].value_counts()"
   ]
  },
  {
   "cell_type": "code",
   "execution_count": null,
   "metadata": {},
   "outputs": [
    {
     "name": "stdout",
     "output_type": "stream",
     "text": [
      "                  Name                 Gaia orig_ogle_class binary_I_Res  \\\n",
      "0  OGLE-BLG-ECL-002011  6028823779367951744             det          det   \n",
      "1  OGLE-BLG-ECL-004840  4107331719835398656             det          det   \n",
      "2  OGLE-BLG-ECL-005098  4059230147580348160             det          det   \n",
      "3  OGLE-BLG-ECL-005728  4107530701320089728            over         over   \n",
      "4  OGLE-BLG-ECL-010040  4109951241823489408             det          det   \n",
      "\n",
      "  spot_I_Res binary_I_ViT spot_I_ViT binary_gaia_Res spot_Gaia_Res  \\\n",
      "0          s          det          s             det             n   \n",
      "1          n          det          s             det             s   \n",
      "2          s          det          s             det             s   \n",
      "3          s         over          n            over             n   \n",
      "4          n         over          n             det             n   \n",
      "\n",
      "  binary_gaia_ViT spot_Gaia_ViT  \n",
      "0             det             n  \n",
      "1             det             s  \n",
      "2             det             s  \n",
      "3            over             n  \n",
      "4            over             n  \n"
     ]
    }
   ],
   "source": [
    "def clean_dataframe(df):\n",
    "    \"\"\"\n",
    "    Cleans the DataFrame by stripping whitespace from object columns and removing spaces from column names.\n",
    "\n",
    "    Args:\n",
    "        df (pd.DataFrame): The input DataFrame.\n",
    "\n",
    "    Returns:\n",
    "        pd.DataFrame: The cleaned DataFrame.\n",
    "    \"\"\"\n",
    "    # Remove spaces from column names\n",
    "    df.columns = df.columns.str.replace(' ', '')\n",
    "\n",
    "    # Strip whitespace from object columns\n",
    "    for col in df.columns:\n",
    "        if df[col].dtype == 'object':\n",
    "            df[col] = df[col].str.strip()\n",
    "    return df\n",
    "\n",
    "ogle = clean_dataframe(ogle)\n",
    "wumacat = clean_dataframe(wumacat)\n",
    "deb = clean_dataframe(deb)"
   ]
  },
  {
   "cell_type": "code",
   "execution_count": 59,
   "metadata": {},
   "outputs": [
    {
     "name": "stdout",
     "output_type": "stream",
     "text": [
      "orig_ogle_class  binary_gaia_Res\n",
      "det              det                96.8\n",
      "                 over                3.2\n",
      "over             over               97.4\n",
      "                 det                 2.6\n",
      "Name: proportion, dtype: float64\n",
      "orig_ogle_class  binary_gaia_ViT\n",
      "det              det                93.5\n",
      "                 over                6.5\n",
      "over             over               96.1\n",
      "                 det                 3.9\n",
      "Name: proportion, dtype: float64\n"
     ]
    }
   ],
   "source": [
    "print(round(ogle.groupby('orig_ogle_class')[['binary_gaia_Res']].value_counts(normalize=True) * 100, 1))\n",
    "print(round(ogle.groupby('orig_ogle_class')[['binary_gaia_ViT']].value_counts(normalize=True) * 100, 1))"
   ]
  },
  {
   "cell_type": "code",
   "execution_count": 61,
   "metadata": {},
   "outputs": [
    {
     "name": "stdout",
     "output_type": "stream",
     "text": [
      "orig_ogle_class  binary_I_Res\n",
      "det              det             86.3\n",
      "                 over            13.7\n",
      "over             over            96.1\n",
      "                 det              3.9\n",
      "Name: proportion, dtype: float64\n",
      "orig_ogle_class  binary_I_ViT\n",
      "det              det             82.3\n",
      "                 over            17.7\n",
      "over             over            94.7\n",
      "                 det              5.3\n",
      "Name: proportion, dtype: float64\n"
     ]
    }
   ],
   "source": [
    "print(round(ogle.groupby('orig_ogle_class')[['binary_I_Res']].value_counts(normalize=True) * 100, 1))\n",
    "print(round(ogle.groupby('orig_ogle_class')[['binary_I_ViT']].value_counts(normalize=True) * 100, 1))"
   ]
  },
  {
   "cell_type": "code",
   "execution_count": 83,
   "metadata": {},
   "outputs": [
    {
     "name": "stdout",
     "output_type": "stream",
     "text": [
      "Misclassification rates for binary_I_Res: [0.13709677 0.03947368]\n",
      "Overall accuracy for binary_I_Res: [0.86290323 0.96052632]\n",
      "Misclassification rates for binary_I_ViT: [0.17741935 0.05263158]\n",
      "Overall accuracy for binary_I_ViT: [0.82258065 0.94736842]\n",
      "Misclassification rates for binary_gaia_Res: [0.03225806 0.02631579]\n",
      "Overall accuracy for binary_gaia_Res: [0.96774194 0.97368421]\n",
      "Misclassification rates for binary_gaia_ViT: [0.06451613 0.03947368]\n",
      "Overall accuracy for binary_gaia_ViT: [0.93548387 0.96052632]\n",
      "Confusion matrices saved as PNG files.\n"
     ]
    }
   ],
   "source": [
    "import seaborn as sns\n",
    "from sklearn.preprocessing import LabelEncoder\n",
    "import numpy as np\n",
    "\n",
    "import sklearn.metrics\n",
    "import matplotlib.pyplot as plt\n",
    "\n",
    "# Columns to iterate through\n",
    "predicted_label_cols = ['binary_I_Res', 'binary_I_ViT', 'binary_gaia_Res', 'binary_gaia_ViT']\n",
    "titles_to_print = ['ResNet_I', 'ViT_I', 'ResNet_Gaia', 'ViT_Gaia']\n",
    "\n",
    "# True labels\n",
    "true_label_col = 'orig_ogle_class'\n",
    "true_labels = ogle[true_label_col]\n",
    "\n",
    "# Initialize LabelEncoder\n",
    "le = LabelEncoder()\n",
    "\n",
    "# Fit and transform the true labels\n",
    "le.fit(true_labels)\n",
    "true_labels_encoded = le.transform(true_labels)\n",
    "\n",
    "# Set annotation keywords\n",
    "annot_kws = {'size': 20}\n",
    "\n",
    "# Loop through each predicted label column and create a confusion matrix\n",
    "for i, predicted_label_col in enumerate(predicted_label_cols):\n",
    "    # Predicted labels\n",
    "    predicted_labels = ogle[predicted_label_col]\n",
    "    predicted_labels_encoded = le.transform(predicted_labels)\n",
    "\n",
    "    # Create confusion matrix\n",
    "    cm = sklearn.metrics.confusion_matrix(true_labels_encoded, predicted_labels_encoded)\n",
    "\n",
    "    # Calculate custom metrics (rates)\n",
    "    class_totals = cm.sum(axis=1, keepdims=True)\n",
    "    custom_cm = cm / class_totals\n",
    "\n",
    "    # Calculate overall accuracy\n",
    "    overall_accuracy = np.diag(cm) / class_totals.flatten()\n",
    "\n",
    "    # Calculate misclassification rates\n",
    "    misclassification_rates = 1 - overall_accuracy\n",
    "\n",
    "    # Create a new figure for each plot\n",
    "    plt.figure(figsize=(10, 8))\n",
    "\n",
    "    # Define the colormap based on whether 'ViT' is in the column name\n",
    "    cmap = \"Reds\" if 'ViT' in predicted_label_col else \"Blues\"\n",
    "\n",
    "    # Plotting the confusion matrix\n",
    "    ax = sns.heatmap(custom_cm, annot=True, fmt=\".2f\", cmap=cmap, cbar=False,\n",
    "                xticklabels=le.classes_, yticklabels=le.classes_,\n",
    "                annot_kws=annot_kws, square=True)\n",
    "\n",
    "    # Add title for custom metrics\n",
    "    plt.xlabel('Predicted class', fontsize=20)\n",
    "    plt.ylabel('True class', fontsize=20)\n",
    "    plt.title(f'{titles_to_print[i]}', fontsize=22)\n",
    "    plt.tick_params(axis='both', which='major', labelsize=18)\n",
    "\n",
    "    # Save the plot to a file\n",
    "    plt.tight_layout()\n",
    "    plt.savefig(f'confusion_matrix_{titles_to_print[i]}.png')\n",
    "    plt.close()  # Close the figure to free memory\n",
    "\n",
    "    print(f\"Misclassification rates for {predicted_label_col}:\", misclassification_rates)\n",
    "    print(f\"Overall accuracy for {predicted_label_col}:\", overall_accuracy)\n",
    "\n",
    "print(\"Confusion matrices saved as PNG files.\")\n"
   ]
  },
  {
   "cell_type": "code",
   "execution_count": null,
   "metadata": {},
   "outputs": [],
   "source": []
  }
 ],
 "metadata": {
  "kernelspec": {
   "display_name": ".venv",
   "language": "python",
   "name": "python3"
  },
  "language_info": {
   "codemirror_mode": {
    "name": "ipython",
    "version": 3
   },
   "file_extension": ".py",
   "mimetype": "text/x-python",
   "name": "python",
   "nbconvert_exporter": "python",
   "pygments_lexer": "ipython3",
   "version": "3.13.1"
  }
 },
 "nbformat": 4,
 "nbformat_minor": 2
}
