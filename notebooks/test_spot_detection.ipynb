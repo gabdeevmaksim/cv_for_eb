{
 "cells": [
  {
   "cell_type": "code",
   "execution_count": 2,
   "metadata": {},
   "outputs": [
    {
     "name": "stdout",
     "output_type": "stream",
     "text": [
      "Successfully loaded: ../data/tests_results/classification_gaia_deb_new.csv\n",
      "Successfully loaded: ../data/tests_results/classification_tess_WUMaCat.csv\n",
      "Successfully loaded: ../data/WUMaCat.csv\n"
     ]
    }
   ],
   "source": [
    "import pandas as pd\n",
    "\n",
    "# Define the file paths\n",
    "file_path_1 = '../data/tests_results/classification_gaia_deb_new.csv'\n",
    "file_path_2 = '../data/tests_results/classification_tess_WUMaCat.csv'\n",
    "file_path_3 = '../data/WUMaCat.csv'\n",
    "\n",
    "# Read the CSV files into pandas DataFrames\n",
    "try:\n",
    "    deb_df = pd.read_csv(file_path_1)\n",
    "    print(f\"Successfully loaded: {file_path_1}\")\n",
    "except FileNotFoundError:\n",
    "    print(f\"Error: File not found at {file_path_1}\")\n",
    "    deb_df = None  # or handle the error as appropriate\n",
    "\n",
    "try:\n",
    "    wuma_df = pd.read_csv(file_path_2)\n",
    "    print(f\"Successfully loaded: {file_path_2}\")\n",
    "except FileNotFoundError:\n",
    "    print(f\"Error: File not found at {file_path_2}\")\n",
    "    wuma_df = None  # or handle the error as appropriate\n",
    "\n",
    "try:\n",
    "    wumatrue_df = pd.read_csv(file_path_3)\n",
    "    print(f\"Successfully loaded: {file_path_3}\")\n",
    "except FileNotFoundError:\n",
    "    print(f\"Error: File not found at {file_path_3}\")\n",
    "    wumatrue_df = None  # or handle the error as appropriate"
   ]
  },
  {
   "cell_type": "code",
   "execution_count": 13,
   "metadata": {},
   "outputs": [],
   "source": [
    "deb_df.columns = deb_df.columns.str.replace(' ', '').str.lower()"
   ]
  },
  {
   "cell_type": "code",
   "execution_count": 14,
   "metadata": {},
   "outputs": [
    {
     "name": "stdout",
     "output_type": "stream",
     "text": [
      "<class 'pandas.core.frame.DataFrame'>\n",
      "RangeIndex: 52 entries, 0 to 51\n",
      "Data columns (total 11 columns):\n",
      " #   Column           Non-Null Count  Dtype \n",
      "---  ------           --------------  ----- \n",
      " 0   name             52 non-null     object\n",
      " 1   gaia             52 non-null     int64 \n",
      " 2   binary_tess_res  52 non-null     object\n",
      " 3   spot_tess_res    52 non-null     object\n",
      " 4   binary_tess_vit  52 non-null     object\n",
      " 5   spot_tess_vit    52 non-null     object\n",
      " 6   binary_gaia_res  52 non-null     object\n",
      " 7   spot_gaia_res    52 non-null     object\n",
      " 8   binary_gaia_vit  52 non-null     object\n",
      " 9   spot_gaia_vit    52 non-null     object\n",
      " 10  real_spot        52 non-null     object\n",
      "dtypes: int64(1), object(10)\n",
      "memory usage: 4.6+ KB\n"
     ]
    }
   ],
   "source": [
    "deb_df.info()"
   ]
  },
  {
   "cell_type": "code",
   "execution_count": 16,
   "metadata": {},
   "outputs": [
    {
     "name": "stdout",
     "output_type": "stream",
     "text": [
      "spot_gaia_res  real_spot\n",
      "n              n            73.7\n",
      "               s            26.3\n",
      "s              n            50.0\n",
      "               s            50.0\n",
      "Name: proportion, dtype: float64\n",
      "spot_gaia_vit  real_spot\n",
      "n              n            75.0\n",
      "               s            25.0\n",
      "s              n            50.0\n",
      "               s            50.0\n",
      "Name: proportion, dtype: float64\n"
     ]
    }
   ],
   "source": [
    "print(round(deb_df.groupby('spot_gaia_res')[['real_spot']].value_counts(normalize=True) * 100, 1))\n",
    "print(round(deb_df.groupby('spot_gaia_vit')[['real_spot']].value_counts(normalize=True) * 100, 1))"
   ]
  },
  {
   "cell_type": "code",
   "execution_count": 17,
   "metadata": {},
   "outputs": [
    {
     "name": "stdout",
     "output_type": "stream",
     "text": [
      "spot_tess_res  real_spot\n",
      "n              n            90.9\n",
      "               s             9.1\n",
      "s              s            73.7\n",
      "               n            26.3\n",
      "Name: proportion, dtype: float64\n",
      "spot_tess_vit  real_spot\n",
      "n              n            90.9\n",
      "               s             9.1\n",
      "s              s            73.7\n",
      "               n            26.3\n",
      "Name: proportion, dtype: float64\n"
     ]
    }
   ],
   "source": [
    "print(round(deb_df.groupby('spot_tess_res')[['real_spot']].value_counts(normalize=True) * 100, 1))\n",
    "print(round(deb_df.groupby('spot_tess_vit')[['real_spot']].value_counts(normalize=True) * 100, 1))"
   ]
  },
  {
   "cell_type": "code",
   "execution_count": 18,
   "metadata": {},
   "outputs": [],
   "source": [
    "wuma_df['real_spot'] = wuma_df['Name'].apply(lambda x: 's' if x in wumatrue_df['Name'].values else 'n')"
   ]
  },
  {
   "cell_type": "code",
   "execution_count": 20,
   "metadata": {},
   "outputs": [],
   "source": [
    "wuma_df.columns = wuma_df.columns.str.replace(' ', '').str.lower()"
   ]
  },
  {
   "cell_type": "code",
   "execution_count": 28,
   "metadata": {},
   "outputs": [],
   "source": [
    "for col in wuma_df.columns:\n",
    "    if 'spot' in col:\n",
    "        wuma_df[col] = wuma_df[col].str.strip()\n",
    "\n",
    "for col in deb_df.columns:\n",
    "    if 'spot' in col:\n",
    "        deb_df[col] = deb_df[col].str.strip()"
   ]
  },
  {
   "cell_type": "code",
   "execution_count": 21,
   "metadata": {},
   "outputs": [
    {
     "name": "stdout",
     "output_type": "stream",
     "text": [
      "<class 'pandas.core.frame.DataFrame'>\n",
      "RangeIndex: 90 entries, 0 to 89\n",
      "Data columns (total 11 columns):\n",
      " #   Column           Non-Null Count  Dtype \n",
      "---  ------           --------------  ----- \n",
      " 0   name             90 non-null     object\n",
      " 1   gaia             90 non-null     int64 \n",
      " 2   binary_tess_res  90 non-null     object\n",
      " 3   spot_tess_res    90 non-null     object\n",
      " 4   binary_tess_vit  90 non-null     object\n",
      " 5   spot_tess_vit    90 non-null     object\n",
      " 6   binary_gaia_res  90 non-null     object\n",
      " 7   spot_gaia_res    90 non-null     object\n",
      " 8   binary_gaia_vit  90 non-null     object\n",
      " 9   spot_gaia_vit    90 non-null     object\n",
      " 10  real_spot        90 non-null     object\n",
      "dtypes: int64(1), object(10)\n",
      "memory usage: 7.9+ KB\n"
     ]
    }
   ],
   "source": [
    "wuma_df.info()"
   ]
  },
  {
   "cell_type": "code",
   "execution_count": 57,
   "metadata": {},
   "outputs": [
    {
     "name": "stdout",
     "output_type": "stream",
     "text": [
      "real_spot  spot_gaia_res\n",
      "n          n                 53.5\n",
      "           s                 46.5\n",
      "s          s                100.0\n",
      "Name: proportion, dtype: float64\n",
      "real_spot  spot_gaia_res\n",
      "n          n                 53.5\n",
      "           s                 46.5\n",
      "s          s                100.0\n",
      "Name: proportion, dtype: float64\n"
     ]
    }
   ],
   "source": [
    "print(round(wuma_df.groupby('real_spot')[['spot_gaia_res']].value_counts(normalize=True) * 100, 1))\n",
    "print(round(wuma_df.groupby('real_spot')[['spot_gaia_res']].value_counts(normalize=True) * 100, 1))"
   ]
  },
  {
   "cell_type": "code",
   "execution_count": 56,
   "metadata": {},
   "outputs": [
    {
     "name": "stdout",
     "output_type": "stream",
     "text": [
      "real_spot  spot_tess_res\n",
      "n          n                53.5\n",
      "           s                46.5\n",
      "s          s                75.0\n",
      "           n                25.0\n",
      "Name: proportion, dtype: float64\n",
      "real_spot  spot_tess_vit\n",
      "n          n                53.5\n",
      "           s                46.5\n",
      "s          s                75.0\n",
      "           n                25.0\n",
      "Name: proportion, dtype: float64\n"
     ]
    }
   ],
   "source": [
    "print(round(wuma_df.groupby('real_spot')[['spot_tess_res']].value_counts(normalize=True) * 100, 1))\n",
    "print(round(wuma_df.groupby('real_spot')[['spot_tess_vit']].value_counts(normalize=True) * 100, 1))"
   ]
  },
  {
   "cell_type": "code",
   "execution_count": 52,
   "metadata": {},
   "outputs": [
    {
     "data": {
      "text/plain": [
       "spot_gaia_res\n",
       "n    46\n",
       "s    44\n",
       "Name: count, dtype: int64"
      ]
     },
     "execution_count": 52,
     "metadata": {},
     "output_type": "execute_result"
    }
   ],
   "source": [
    "wuma_df.spot_gaia_res.value_counts()"
   ]
  },
  {
   "cell_type": "code",
   "execution_count": 53,
   "metadata": {},
   "outputs": [
    {
     "data": {
      "text/plain": [
       "real_spot\n",
       "n    86\n",
       "s     4\n",
       "Name: count, dtype: int64"
      ]
     },
     "execution_count": 53,
     "metadata": {},
     "output_type": "execute_result"
    }
   ],
   "source": [
    "wuma_df.real_spot.value_counts()"
   ]
  },
  {
   "cell_type": "code",
   "execution_count": 66,
   "metadata": {},
   "outputs": [
    {
     "name": "stdout",
     "output_type": "stream",
     "text": [
      "Confusion matrices saved as PNG files.\n"
     ]
    }
   ],
   "source": [
    "import seaborn as sns\n",
    "from sklearn.preprocessing import LabelEncoder\n",
    "import numpy as np\n",
    "\n",
    "import sklearn.metrics\n",
    "import matplotlib.pyplot as plt\n",
    "\n",
    "# Columns to iterate through\n",
    "predicted_label_cols = ['spot_gaia_res', 'spot_gaia_vit', 'spot_tess_res', 'spot_tess_vit']\n",
    "titles_to_print = ['ResNet_gaia', 'ViT_gaia', 'ResNet_tess', 'ViT_tess']\n",
    "\n",
    "# True labels\n",
    "true_label_col = 'real_spot'\n",
    "true_labels = wuma_df[true_label_col]\n",
    "\n",
    "# Initialize LabelEncoder\n",
    "le = LabelEncoder()\n",
    "\n",
    "# Fit and transform the true labels\n",
    "le.fit(true_labels)\n",
    "true_labels_encoded = le.transform(true_labels)\n",
    "\n",
    "# Set annotation keywords\n",
    "annot_kws = {'size': 20}\n",
    "\n",
    "# Loop through each predicted label column and create a confusion matrix\n",
    "for i, predicted_label_col in enumerate(predicted_label_cols):\n",
    "    # Predicted labels\n",
    "    predicted_labels = wuma_df[predicted_label_col]\n",
    "    predicted_labels_encoded = le.transform(predicted_labels)\n",
    "\n",
    "    # Create confusion matrix\n",
    "    cm = sklearn.metrics.confusion_matrix(true_labels_encoded, predicted_labels_encoded)\n",
    "\n",
    "    # Create a new figure for each plot\n",
    "    plt.figure(figsize=(10, 8))\n",
    "\n",
    "    # Define the colormap based on whether 'ViT' is in the column name\n",
    "    cmap = \"Reds\" if 'vit' in predicted_label_col else \"Blues\"\n",
    "\n",
    "    # Plotting the confusion matrix\n",
    "    ax = sns.heatmap(cm, annot=True, cmap=cmap, cbar=False,\n",
    "                xticklabels=le.classes_, yticklabels=le.classes_,\n",
    "                annot_kws=annot_kws, square=True)\n",
    "\n",
    "    # Add title for custom metrics\n",
    "    plt.xlabel('Predicted class', fontsize=20)\n",
    "    plt.ylabel('True class', fontsize=20)\n",
    "    plt.title(f'{titles_to_print[i]}', fontsize=22)\n",
    "    plt.tick_params(axis='both', which='major', labelsize=18)\n",
    "\n",
    "    # Save the plot to a file\n",
    "    plt.tight_layout()\n",
    "    plt.savefig(f'confusion_matrix_{titles_to_print[i]}_WUMa.png')\n",
    "    plt.close()  # Close the figure to free memory\n",
    "\n",
    "print(\"Confusion matrices saved as PNG files.\")\n"
   ]
  },
  {
   "cell_type": "code",
   "execution_count": null,
   "metadata": {},
   "outputs": [
    {
     "name": "stdout",
     "output_type": "stream",
     "text": [
      "Confusion matrices saved as PNG files.\n"
     ]
    }
   ],
   "source": [
    "import seaborn as sns\n",
    "from sklearn.preprocessing import LabelEncoder\n",
    "\n",
    "import sklearn.metrics\n",
    "import matplotlib.pyplot as plt\n",
    "\n",
    "# Columns to iterate through\n",
    "predicted_label_cols = ['spot_gaia_res', 'spot_gaia_vit', 'spot_tess_res', 'spot_tess_vit']\n",
    "titles_to_print = ['ResNet_gaia', 'ViT_gaia', 'ResNet_tess', 'ViT_tess']\n",
    "\n",
    "# True labels\n",
    "true_label_col = 'real_spot'\n",
    "true_labels = deb_df[true_label_col]\n",
    "\n",
    "# Initialize LabelEncoder\n",
    "le = LabelEncoder()\n",
    "\n",
    "# Fit and transform the true labels\n",
    "le.fit(true_labels)\n",
    "true_labels_encoded = le.transform(true_labels)\n",
    "\n",
    "# Set annotation keywords\n",
    "annot_kws = {'size': 20}\n",
    "\n",
    "# Loop through each predicted label column and create a confusion matrix\n",
    "for i, predicted_label_col in enumerate(predicted_label_cols):\n",
    "    # Predicted labels\n",
    "    predicted_labels = deb_df[predicted_label_col]\n",
    "    predicted_labels_encoded = le.transform(predicted_labels)\n",
    "\n",
    "    # Create confusion matrix\n",
    "    cm = sklearn.metrics.confusion_matrix(true_labels_encoded, predicted_labels_encoded)\n",
    "\n",
    "    # Create a new figure for each plot\n",
    "    plt.figure(figsize=(10, 8))\n",
    "\n",
    "    # Define the colormap based on whether 'ViT' is in the column name\n",
    "    cmap = \"Reds\" if 'vit' in predicted_label_col else \"Blues\"\n",
    "\n",
    "    # Plotting the confusion matrix\n",
    "    ax = sns.heatmap(cm, annot=True, cmap=cmap, cbar=False,\n",
    "                xticklabels=le.classes_, yticklabels=le.classes_,\n",
    "                annot_kws=annot_kws, square=True)\n",
    "\n",
    "    # Add title for custom metrics\n",
    "    plt.xlabel('Predicted class', fontsize=20)\n",
    "    plt.ylabel('True class', fontsize=20)\n",
    "    plt.title(f'{titles_to_print[i]}', fontsize=22)\n",
    "    plt.tick_params(axis='both', which='major', labelsize=18)\n",
    "\n",
    "    # Save the plot to a file\n",
    "    plt.tight_layout()\n",
    "    plt.savefig(f'confusion_matrix_{titles_to_print[i]}_DEB.png')\n",
    "    plt.close()  # Close the figure to free memory\n",
    "\n",
    "print(\"Confusion matrices saved as PNG files.\")\n"
   ]
  },
  {
   "cell_type": "code",
   "execution_count": 67,
   "metadata": {},
   "outputs": [],
   "source": [
    "deb_df.to_csv(file_path_1, index=False)\n",
    "wuma_df.to_csv(file_path_2, index=False)"
   ]
  },
  {
   "cell_type": "code",
   "execution_count": 3,
   "metadata": {},
   "outputs": [
    {
     "name": "stdout",
     "output_type": "stream",
     "text": [
      "<class 'pandas.core.frame.DataFrame'>\n",
      "Index: 19 entries, 0 to 48\n",
      "Data columns (total 13 columns):\n",
      " #   Column           Non-Null Count  Dtype \n",
      "---  ------           --------------  ----- \n",
      " 0   name             19 non-null     object\n",
      " 1   gaia             19 non-null     int64 \n",
      " 2   binary_tess_res  19 non-null     object\n",
      " 3   spot_tess_res    19 non-null     object\n",
      " 4   binary_tess_vit  19 non-null     object\n",
      " 5   spot_tess_vit    19 non-null     object\n",
      " 6   binary_gaia_res  19 non-null     object\n",
      " 7   spot_gaia_res    19 non-null     object\n",
      " 8   binary_gaia_vit  19 non-null     object\n",
      " 9   spot_gaia_vit    19 non-null     object\n",
      " 10  real_spot        19 non-null     object\n",
      " 11  lit_spot         19 non-null     object\n",
      " 12  bibcode          19 non-null     object\n",
      "dtypes: int64(1), object(12)\n",
      "memory usage: 2.1+ KB\n"
     ]
    }
   ],
   "source": [
    "deb_df = deb_df[deb_df['lit_spot'] != '-']\n",
    "deb_df.info()"
   ]
  },
  {
   "cell_type": "code",
   "execution_count": 5,
   "metadata": {},
   "outputs": [
    {
     "name": "stdout",
     "output_type": "stream",
     "text": [
      "Confusion matrices saved as PNG files.\n"
     ]
    }
   ],
   "source": [
    "import seaborn as sns\n",
    "from sklearn.preprocessing import LabelEncoder\n",
    "\n",
    "import sklearn.metrics\n",
    "import matplotlib.pyplot as plt\n",
    "\n",
    "# Columns to iterate through\n",
    "predicted_label_cols = ['spot_gaia_res', 'spot_gaia_vit', 'spot_tess_res', 'spot_tess_vit']\n",
    "titles_to_print = ['ResNet_gaia', 'ViT_gaia', 'ResNet_tess', 'ViT_tess']\n",
    "\n",
    "# True labels\n",
    "true_label_col = 'lit_spot'\n",
    "true_labels = deb_df[true_label_col]\n",
    "\n",
    "# Initialize LabelEncoder\n",
    "le = LabelEncoder()\n",
    "\n",
    "# Fit and transform the true labels\n",
    "le.fit(true_labels)\n",
    "true_labels_encoded = le.transform(true_labels)\n",
    "\n",
    "# Set annotation keywords\n",
    "annot_kws = {'size': 20}\n",
    "\n",
    "# Loop through each predicted label column and create a confusion matrix\n",
    "for i, predicted_label_col in enumerate(predicted_label_cols):\n",
    "    # Predicted labels\n",
    "    predicted_labels = deb_df[predicted_label_col]\n",
    "    predicted_labels_encoded = le.transform(predicted_labels)\n",
    "\n",
    "    # Create confusion matrix\n",
    "    cm = sklearn.metrics.confusion_matrix(true_labels_encoded, predicted_labels_encoded)\n",
    "\n",
    "    # Create a new figure for each plot\n",
    "    plt.figure(figsize=(10, 8))\n",
    "\n",
    "    # Define the colormap based on whether 'ViT' is in the column name\n",
    "    cmap = \"Reds\" if 'vit' in predicted_label_col else \"Blues\"\n",
    "\n",
    "    # Plotting the confusion matrix\n",
    "    ax = sns.heatmap(cm, annot=True, cmap=cmap, cbar=False,\n",
    "                xticklabels=le.classes_, yticklabels=le.classes_,\n",
    "                annot_kws=annot_kws, square=True)\n",
    "\n",
    "    # Add title for custom metrics\n",
    "    plt.xlabel('Predicted class', fontsize=20)\n",
    "    plt.ylabel('True class', fontsize=20)\n",
    "    plt.title(f'{titles_to_print[i]}', fontsize=22)\n",
    "    plt.tick_params(axis='both', which='major', labelsize=18)\n",
    "\n",
    "    # Save the plot to a file\n",
    "    plt.tight_layout()\n",
    "    plt.savefig(f'confusion_matrix_{titles_to_print[i]}_DEB_lit.png')\n",
    "    plt.close()  # Close the figure to free memory\n",
    "\n",
    "print(\"Confusion matrices saved as PNG files.\")\n"
   ]
  },
  {
   "cell_type": "code",
   "execution_count": null,
   "metadata": {},
   "outputs": [],
   "source": []
  }
 ],
 "metadata": {
  "kernelspec": {
   "display_name": ".venv",
   "language": "python",
   "name": "python3"
  },
  "language_info": {
   "codemirror_mode": {
    "name": "ipython",
    "version": 3
   },
   "file_extension": ".py",
   "mimetype": "text/x-python",
   "name": "python",
   "nbconvert_exporter": "python",
   "pygments_lexer": "ipython3",
   "version": "3.13.1"
  }
 },
 "nbformat": 4,
 "nbformat_minor": 2
}
